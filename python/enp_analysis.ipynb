{
 "cells": [
  {
   "cell_type": "markdown",
   "metadata": {},
   "source": [
    "# INVENTARIO DE ESPECIES ENCONTRADAS EN LOS ESPACIOS NATURALES PROTEGIDOS (ENP) ISLA GRAN CANARIA."
   ]
  },
  {
   "cell_type": "code",
   "execution_count": null,
   "metadata": {},
   "outputs": [],
   "source": [
    "import os\n",
    "from unidecode import unidecode\n",
    "import pandas as pd\n",
    "import numpy as np\n",
    "from great_tables import GT, html\n",
    "import warnings\n",
    "warnings.filterwarnings('ignore')"
   ]
  },
  {
   "cell_type": "code",
   "execution_count": null,
   "metadata": {},
   "outputs": [],
   "source": [
    "## MI variable\n",
    "my_variable = int(os.getenv(\"MY_VARIABLE\"))"
   ]
  },
  {
   "cell_type": "code",
   "execution_count": null,
   "metadata": {},
   "outputs": [],
   "source": [
    "# FUNCIONES Y ENLACES\n",
    "# URL de Biota\n",
    "url_biota = \"https://www.biodiversidadcanarias.es/biota/especie/\"\n",
    "\n",
    "def create_gt(df, enp, categoria):\n",
    "    \"\"\"_Resumen:\n",
    "    Esta función tiene como objetivo procesar los datos de las tablas CSV en el\n",
    "    directorio ENP (Espacios Naturales Protegidos), con la intención de crear \n",
    "    una GREAT TABLE con las especies observadas en un espacio en concreto.\n",
    "\n",
    "    Args:\n",
    "        df (DataFrame): Data Frame de uno de los ENP\n",
    "        enp (string): ENP seleccionado\n",
    "        categoria (string): Categoría del ENP seleccionado\n",
    "\n",
    "    Returns:\n",
    "        great_table: Tabla HTML GT\n",
    "    \"\"\"\n",
    "    df.id_biota = \"[\" + df.id_biota + \"]\" + \"(\" + url_biota + df.id_biota + \")\"\n",
    "\n",
    "    df = df.sort_values([\"reino\", \"especie\"])\n",
    "\n",
    "    df['nombre_comun'] = np.where(\n",
    "        (df['nombre_comun']\n",
    "            .str.replace(\",\", \"\").\n",
    "            str.split().\n",
    "            str.len() > 4),\n",
    "        (df['nombre_comun']\n",
    "            .str.replace(\",\", \"\")\n",
    "            .str.split()\n",
    "            .str[:4]\n",
    "            .str.join(', ')) + \", etc\",\n",
    "        df['nombre_comun']\n",
    "    )\n",
    "\n",
    "    gt = (GT(df)\n",
    "        .tab_header(\n",
    "            title = html(\n",
    "                f\"<strong>INVENTARIO DE ESPECIES DEL ENP {enp}</strong>\"\n",
    "            ),\n",
    "            subtitle = html(f\"Categoría del ENP: <u>{categoria}</u>\")\n",
    "        )\n",
    "        .cols_label(\n",
    "            id_biota = html(\"<strong>ID Biota</strong>\"),\n",
    "            especie = html(\"<strong>Nombre científico</strong>\"),\n",
    "            nombre_comun = html(\"<strong>Nombre común</strong>\"),\n",
    "            endemicidad = html(\"<strong>Endemicidad</strong>\"),\n",
    "            reino = html(\"<strong>Reino</strong>\"),\n",
    "            group_count = html(\"<strong>Nº fotos</strong>\")\n",
    "        )\n",
    "        .fmt_markdown(columns = \"id_biota\")\n",
    "        .opt_stylize()\n",
    "        .tab_options(\n",
    "            heading_border_bottom_color = \"black\",\n",
    "            table_border_top_color=\"black\", \n",
    "            table_border_bottom_color=\"black\",\n",
    "            column_labels_border_top_color = \"black\",\n",
    "            column_labels_border_bottom_color = \"black\",\n",
    "            table_body_border_bottom_color = \"black\"\n",
    "\n",
    "        ))\n",
    "    return gt"
   ]
  },
  {
   "cell_type": "code",
   "execution_count": null,
   "metadata": {},
   "outputs": [],
   "source": [
    "metadatos = pd.read_csv(\"../metadata/metadatos_espacios.csv\").iloc[my_variable,:]"
   ]
  },
  {
   "cell_type": "code",
   "execution_count": null,
   "metadata": {},
   "outputs": [],
   "source": [
    "df_seleccionado = pd.read_csv(f\"../ENP/{unidecode(metadatos[3].lower().replace(' ', '_'))}/{metadatos[2]}\")\n",
    "logo_enp = f\"<a target='_blank' rel='noreferrer'> <img src='{metadatos[4]}' alt='logoenp' width='30' height='30'/> </a>\"\n",
    "df_seleccionado_table = create_gt(df_seleccionado, f\"{metadatos[0] + \" \" + metadatos[1].upper()}\", f\"{metadatos[3] + logo_enp}\")"
   ]
  },
  {
   "cell_type": "code",
   "execution_count": null,
   "metadata": {},
   "outputs": [],
   "source": [
    "### Estadísticas básicas\n",
    "## Nº de especies en total\n",
    "#n_especies = df_seleccionado.shape[0]\n",
    "## Nº de especies según el reino\n",
    "#n_especies_reino = df_seleccionado.groupby(\"reino\").size().reset_index(name = \"n\")\n",
    "#\n",
    "#(GT(\n",
    "#    pd.DataFrame(data = [\n",
    "#        f\"<u>Número de especies observadas en total: {n_especies}</u>\" + \n",
    "#        \"<br><br>\" +\n",
    "#        f\"Número de especies de <span style='color: red'>Metazoa</span>: {n_especies_reino.n[0]}\" +\n",
    "#        \"<br>\" +\n",
    "#        f\"Número de especies de <span style='color: forestgreen'>Plantae</span>: {n_especies_reino.n[1]}\" \n",
    "#        ], columns=[\"estadisticas\"])\n",
    "#    )\n",
    "#    .tab_header(title = html(\"<strong>ESTADÍSTICAS BÁSICAS</strong>\"))\n",
    "#    .cols_label(estadisticas = html(\"\"))\n",
    "#    .tab_options(\n",
    "#        table_border_top_color=\"#FFFFFF\", \n",
    "#        table_border_bottom_color=\"#FFFFFF\",\n",
    "#        column_labels_border_top_color = \"#FFFFFF\",\n",
    "#        column_labels_border_bottom_color = \"black\",\n",
    "#        table_body_border_bottom_color = \"#FFFFFF\"\n",
    "#        \n",
    "#    ))"
   ]
  },
  {
   "cell_type": "code",
   "execution_count": null,
   "metadata": {},
   "outputs": [],
   "source": [
    "df_seleccionado_table"
   ]
  },
  {
   "cell_type": "markdown",
   "metadata": {},
   "source": [
    "<footer style='text-align: left; margin-top: 20px; font-size: small; color: gray;'>\n",
    "    <p>Sitio <a href='https://github.com/JuanCarlosBio/inventario_especies_enp'>desarrollado</a> por <a href='https://juancarlosbio.github.io/juancarlos_portfolio_esp/'>Juan Carlos García Estupiñán</a> mediante la MIT LICENSE</p>\n",
    "</footer>"
   ]
  }
 ],
 "metadata": {
  "kernelspec": {
   "display_name": "inventario_especies_gc",
   "language": "python",
   "name": "python3"
  },
  "language_info": {
   "codemirror_mode": {
    "name": "ipython",
    "version": 3
   },
   "file_extension": ".py",
   "mimetype": "text/x-python",
   "name": "python",
   "nbconvert_exporter": "python",
   "pygments_lexer": "ipython3",
   "version": "3.12.8"
  }
 },
 "nbformat": 4,
 "nbformat_minor": 2
}
